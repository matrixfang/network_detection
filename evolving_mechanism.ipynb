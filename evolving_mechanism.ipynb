{
 "cells": [
  {
   "cell_type": "code",
   "execution_count": 1,
   "metadata": {},
   "outputs": [
    {
     "name": "stdout",
     "output_type": "stream",
     "text": [
      "\n",
      "Please wait a moment while I gather a list of all available modules...\n",
      "\n",
      "[0, 1, 2, 3, 4]\n",
      "[0, 1, 2, 3, 4, 5, 6, 7, 8, 9, 10, 11, 12, 13, 14, 15, 16, 17, 18, 19, 20, 21, 22, 23, 24, 25, 26, 27, 28, 29, 30, 31, 32, 33, 34, 35, 36, 37, 38, 39, 40, 41, 42, 43, 44, 45, 46, 47, 48, 49, 50, 51, 52, 53, 54, 55, 56, 57, 58, 59, 60, 61, 62, 63, 64, 65, 66, 67, 68, 69, 70, 71, 72, 73, 74, 75, 76, 77, 78, 79, 80, 81, 82, 83, 84, 85, 86, 87, 88, 89, 90, 91, 92, 93, 94, 95, 96, 97, 98, 99, 100, 101, 102, 103, 104, 105, 106, 107, 108, 109, 110, 111, 112, 113, 114, 115, 116, 117, 118, 119, 120, 121, 122, 123, 124, 125, 126, 127, 128, 129, 130, 131, 132, 133, 134, 135, 136, 137, 138, 139, 140, 141, 142, 143, 144, 145, 146, 147, 148, 149, 150, 151, 152, 153, 154, 155, 156, 157, 158, 159, 160, 161, 162, 163, 164, 165, 166, 167, 168, 169, 170, 171, 172, 173, 174, 175, 176, 177, 178, 179, 180, 181, 182, 183, 184, 185, 186, 187, 188, 189, 190, 191, 192, 193, 194, 195, 196, 197, 198, 199, 200, 201, 202, 203, 204, 205, 206, 207, 208, 209, 210, 211, 212, 213, 214, 215, 216, 217, 218, 219, 220, 221, 222, 223, 224, 225, 226, 227, 228, 229, 230, 231, 232, 233, 234, 235, 236, 237, 238, 239, 240, 241, 242, 243, 244, 245, 246, 247, 248, 249, 250, 251, 252, 253, 254, 255, 256, 257, 258, 259, 260, 261, 262, 263, 264, 265, 266, 267, 268, 269, 270, 271, 272, 273, 274, 275, 276, 277, 278, 279, 280, 281, 282, 283, 284, 285, 286, 287, 288, 289, 290, 291, 292, 293, 294, 295, 296, 297, 298, 299, 300, 301, 302, 303, 304, 305, 306, 307, 308, 309, 310, 311, 312, 313, 314, 315, 316, 317, 318, 319, 320, 321, 322, 323, 324, 325, 326, 327, 328, 329, 330, 331, 332, 333, 334, 335, 336, 337, 338, 339, 340, 341, 342, 343, 344, 345, 346, 347, 348, 349, 350, 351, 352, 353, 354, 355, 356, 357, 358, 359, 360, 361, 362, 363, 364, 365, 366, 367, 368, 369, 370, 371, 372, 373, 374, 375, 376, 377, 378, 379, 380, 381, 382, 383, 384, 385, 386, 387, 388, 389, 390, 391, 392, 393, 394, 395, 396, 397, 398, 399, 400, 401, 402, 403, 404, 405, 406, 407, 408, 409, 410, 411, 412, 413, 414, 415, 416, 417, 418, 419, 420, 421, 422, 423, 424, 425, 426, 427, 428, 429, 430, 431, 432, 433, 434, 435, 436, 437, 438, 439, 440, 441, 442, 443, 444, 445, 446, 447, 448, 449, 450, 451, 452, 453, 454, 455, 456, 457, 458, 459, 460, 461, 462, 463, 464, 465, 466, 467, 468, 469, 470, 471, 472, 473, 474, 475, 476, 477, 478, 479, 480, 481, 482, 483, 484, 485, 486, 487, 488, 489, 490, 491, 492, 493, 494, 495, 496, 497, 498, 499, 500, 501, 502, 503, 504, 505, 506, 507, 508, 509, 510, 511, 512, 513, 514, 515, 516, 517, 518, 519, 520, 521, 522, 523, 524, 525, 526, 527, 528, 529, 530, 531, 532, 533, 534, 535, 536, 537, 538, 539, 540, 541, 542, 543, 544, 545, 546, 547, 548, 549, 550, 551, 552, 553, 554, 555, 556, 557, 558, 559, 560, 561, 562, 563, 564, 565, 566, 567, 568, 569, 570, 571, 572, 573, 574, 575, 576, 577, 578, 579, 580, 581, 582, 583, 584, 585, 586, 587, 588, 589, 590, 591, 592, 593, 594, 595, 596, 597, 598, 599, 600, 601, 602, 603, 604, 605, 606, 607, 608, 609, 610, 611, 612, 613, 614, 615, 616, 617, 618, 619, 620, 621, 622, 623, 624, 625, 626, 627, 628, 629, 630, 631, 632, 633, 634, 635, 636, 637, 638, 639, 640, 641, 642, 643, 644, 645, 646, 647, 648, 649, 650, 651, 652, 653, 654, 655, 656, 657, 658, 659, 660, 661, 662, 663, 664, 665, 666, 667, 668, 669, 670, 671, 672, 673, 674, 675, 676, 677, 678, 679, 680, 681, 682, 683, 684, 685, 686, 687, 688, 689, 690, 691, 692, 693, 694, 695, 696, 697, 698, 699, 700, 701, 702, 703, 704, 705, 706, 707, 708, 709, 710, 711, 712, 713, 714, 715, 716, 717, 718, 719, 720, 721, 722, 723, 724, 725, 726, 727, 728, 729, 730, 731, 732, 733, 734, 735, 736, 737, 738, 739, 740, 741, 742, 743, 744, 745, 746, 747, 748, 749, 750, 751, 752, 753, 754, 755, 756, 757, 758, 759, 760, 761, 762, 763, 764, 765, 766, 767, 768, 769, 770, 771, 772, 773, 774, 775, 776, 777, 778, 779, 780, 781, 782, 783, 784, 785, 786, 787, 788, 789, 790, 791, 792, 793, 794, 795, 796, 797, 798, 799, 800, 801, 802, 803, 804, 805, 806, 807, 808, 809, 810, 811, 812, 813, 814, 815, 816, 817, 818, 819, 820, 821, 822, 823, 824, 825, 826, 827, 828, 829, 830, 831, 832, 833, 834, 835, 836, 837, 838, 839, 840, 841, 842, 843, 844, 845, 846, 847, 848, 849, 850, 851, 852, 853, 854, 855, 856, 857, 858, 859, 860, 861, 862, 863, 864, 865, 866, 867, 868, 869, 870, 871, 872, 873, 874, 875, 876, 877, 878, 879, 880, 881, 882, 883, 884, 885, 886, 887, 888, 889, 890, 891, 892, 893, 894, 895, 896, 897, 898, 899, 900, 901, 902, 903, 904, 905, 906, 907, 908, 909, 910, 911, 912, 913, 914, 915, 916, 917, 918, 919, 920, 921, 922, 923, 924, 925, 926, 927, 928, 929, 930, 931, 932, 933, 934, 935, 936, 937, 938, 939, 940, 941, 942, 943, 944, 945, 946, 947, 948, 949, 950, 951, 952, 953, 954, 955, 956, 957, 958, 959, 960, 961, 962, 963, 964, 965, 966, 967, 968, 969, 970, 971, 972, 973, 974, 975, 976, 977, 978, 979, 980, 981, 982, 983, 984, 985, 986, 987, 988, 989, 990, 991, 992, 993, 994, 995, 996, 997, 998, 999] <class 'networkx.classes.reportviews.NodeView'>\n"
     ]
    },
    {
     "name": "stderr",
     "output_type": "stream",
     "text": [
      "/Library/Frameworks/Python.framework/Versions/3.7/lib/python3.7/site-packages/IPython/kernel/__init__.py:13: ShimWarning: The `IPython.kernel` package has been deprecated since IPython 4.0.You should import from ipykernel or jupyter_client instead.\n",
      "  \"You should import from ipykernel or jupyter_client instead.\", ShimWarning)\n"
     ]
    },
    {
     "name": "stdout",
     "output_type": "stream",
     "text": [
      "Unreleased!\n",
      "█\r"
     ]
    },
    {
     "name": "stderr",
     "output_type": "stream",
     "text": [
      "/Library/Frameworks/Python.framework/Versions/3.7/lib/python3.7/site-packages/nltk/twitter/__init__.py:22: UserWarning: The twython library has not been installed. Some functionality from the twitter package will not be available.\n",
      "  \"The twython library has not been installed. \"\n",
      "ERROR:External:Install rpy2 to enable simple support for the R language.\n",
      "ERROR:pyabc.petab.base:Install petab (see https://github.com/icb-dcm/petab) to use the petab functionality.\n",
      "/Library/Frameworks/Python.framework/Versions/3.7/lib/python3.7/pkgutil.py:107: VisibleDeprecationWarning: zmq.eventloop.minitornado is deprecated in pyzmq 14.0 and will be removed.\n",
      "    Install tornado itself to use zmq with the tornado IOLoop.\n",
      "    \n",
      "  yield from walk_packages(path, info.name+'.', onerror)\n"
     ]
    },
    {
     "name": "stdout",
     "output_type": "stream",
     "text": [
      "EoN                 brain_numpy_core_multiarray ipython_genutils    queuelib\n",
      "IPython             brain_numpy_core_numeric ipywidgets          quopri\n",
      "Levenshtein         brain_numpy_core_numerictypes isort               random\n",
      "OpenSSL             brain_numpy_core_umath itchat              re\n",
      "PIL                 brain_numpy_ndarray itertools           readline\n",
      "__future__          brain_numpy_random_mtrand itsdangerous        redis\n",
      "_abc                brain_numpy_utils   jdcal               regex\n",
      "_ast                brain_pkg_resources jedi                reprlib\n",
      "_asyncio            brain_pytest        jinja2              requests\n",
      "_bisect             brain_qt            joblib              resource\n",
      "_blake2             brain_random        json                rlcompleter\n",
      "_bootlocale         brain_re            json5               rmagic\n",
      "_bz2                brain_responses     jsonschema          rope\n",
      "_cffi_backend       brain_scipy_signal  jupyter             runpy\n",
      "_codecs             brain_six           jupyter_client      sched\n",
      "_codecs_cn          brain_ssl           jupyter_console     schedule\n",
      "_codecs_hk          brain_subprocess    jupyter_core        scipy\n",
      "_codecs_iso2022     brain_threading     jupyterlab          scrapy\n",
      "_codecs_jp          brain_typing        jupyterlab_server   seaborn\n",
      "_codecs_kr          brain_uuid          keyword             secrets\n",
      "_codecs_tw          bs4                 kiwisolver          select\n",
      "_collections        builtins            lazy_object_proxy   selectors\n",
      "_collections_abc    bz2                 leidenalg           selenium\n",
      "_compat_pickle      cProfile            lib2to3             send2trash\n",
      "_compression        caffe2              libfuturize         service_identity\n",
      "_contextvars        cairocffi           libpasteurize       setuptools\n",
      "_crypt              calendar            linecache           sexpdata\n",
      "_csv                certifi             locale              shelve\n",
      "_ctypes             cffi                logging             shlex\n",
      "_ctypes_test        cgi                 louvain             shutil\n",
      "_curses             cgitb               lxml                signal\n",
      "_curses_panel       chardet             lzma                site\n",
      "_datetime           chunk               lzo                 six\n",
      "_dbm                click               macholib            sklearn\n",
      "_decimal            cloudpickle         macpath             smmap\n",
      "_dummy_thread       cmath               mailbox             smtpd\n",
      "_elementtree        cmd                 mailcap             smtplib\n",
      "_functools          code                markupsafe          sndhdr\n",
      "_hashlib            codecs              marshal             socket\n",
      "_heapq              codeop              math                socketserver\n",
      "_imp                collections         matplotlib          sortedcontainers\n",
      "_io                 colorama            mccabe              soupsieve\n",
      "_json               colorsys            mimetypes           sqlalchemy\n",
      "_locale             community           mistune             sqlite3\n",
      "_lsprof             compileall          mmap                sre_compile\n",
      "_lzma               concurrent          modulefinder        sre_constants\n",
      "_markupbase         configparser        modulegraph         sre_parse\n",
      "_md5                constantly          monotonic           ssl\n",
      "_multibytecodec     contextlib          more_itertools      stat\n",
      "_multiprocessing    contextvars         mpmath              statistics\n",
      "_opcode             copy                msgpack             storemagic\n",
      "_operator           copyheaders         multiprocessing     string\n",
      "_osx_support        copyreg             nbconvert           stringprep\n",
      "_pickle             crypt               nbformat            struct\n",
      "_posixsubprocess    cryptography        netrc               subprocess\n",
      "_py_abc             cssselect           networkx            sunau\n",
      "_pydecimal          csv                 nis                 symbol\n",
      "_pyio               ctypes              nltk                sympyprinting\n",
      "_pyrsistent_version curses              nntplib             symtable\n",
      "_pytest             cycler              notebook            sys\n",
      "_queue              cythonmagic         npeet               sysconfig\n",
      "_random             dask                ntpath              syslog\n",
      "_scproxy            dataclasses         nturl2path          tabnanny\n",
      "_sha1               datetime            numbers             tarfile\n",
      "_sha256             dateutil            numpy               tblib\n",
      "_sha3               dbm                 opcode              telnetlib\n",
      "_sha512             decimal             openpyxl            tempCodeRunnerFile\n",
      "_signal             decorator           operator            tempfile\n",
      "_sitebuiltins       defusedxml          optparse            terminado\n",
      "_socket             difflib             os                  termios\n",
      "_sqlite3            dill                packaging           test\n",
      "_sre                dis                 pandas              test_png\n",
      "_ssl                distributed         pandocfilters       testpath\n",
      "_stat               distutils           pandoczotxt         tests\n",
      "_string             dns                 parsel              texttable\n",
      "_strptime           doctest             parser              textwrap\n",
      "_struct             docx                parso               this\n",
      "_symtable           dominate            past                threading\n",
      "_sysconfigdata_m_darwin_darwin dummy_threading     pathlib             threadpoolctl\n",
      "_testbuffer         easy_install        pdb                 time\n",
      "_testcapi           email               pexpect             timeit\n",
      "_testimportmultiple encodings           pickle              tkinter\n",
      "_testmultiphase     ensurepip           pickleshare         tlz\n",
      "_thread             entropy             pickletools         token\n",
      "_threading_local    entrypoints         pip                 tokenize\n",
      "_tkinter            enum                pipes               toml\n",
      "_tracemalloc        epc                 pkg_resources       toolz\n",
      "_uuid               errno               pkgutil             torch\n",
      "_warnings           et_xmlfile          platform            torchvision\n",
      "_weakref            eventlet            plistlib            tornado\n",
      "_weakrefset         evolving_mechanism  pluggy              tqdm\n",
      "_xxtestfuzz         exampleproj         png                 trace\n",
      "abc                 faulthandler        pngsuite            traceback\n",
      "aifc                fcntl               poplib              tracemalloc\n",
      "altgraph            feather             posix               traitlets\n",
      "antigravity         filecmp             posixpath           tty\n",
      "appnope             fileinput           powerlaw            turtle\n",
      "argparse            flask               pprint              turtledemo\n",
      "array               flask_bootstrap     pretty_errors       twisted\n",
      "ast                 fnmatch             profile             typed_ast\n",
      "astroid             formatter           progress            types\n",
      "asynchat            fractions           progressbar         typing\n",
      "asyncio             ftplib              prometheus_client   typing_extensions\n",
      "asyncore            functools           prompt_toolkit      unicodedata\n",
      "atexit              future              protego             unittest\n",
      "atomicwrites        gc                  pstats              urllib\n",
      "attr                genericpath         psutil              urllib3\n",
      "audioop             getopt              pty                 uu\n",
      "automat             getpass             ptyprocess          uuid\n",
      "autoreload          gettext             pvectorc            venv\n",
      "backcall            gevent              pwd                 visitor\n",
      "base64              git                 py                  w3lib\n",
      "bdb                 gitdb               py2app              warnings\n",
      "binascii            glob                py_compile          wave\n",
      "binhex              greenlet            pyabc               wcwidth\n",
      "bisect              grp                 pyarrow             weakref\n",
      "bkcharts            gzip                pyasn1              webbrowser\n",
      "bleach              hamcrest            pyasn1_modules      webencodings\n",
      "bokeh               hashlib             pybind11            werkzeug\n",
      "brain_argparse      heapdict            pyclbr              wheel\n",
      "brain_attrs         heapq               pycparser           widgetsnbextension\n",
      "brain_boto3         hmac                pydispatch          wordcloud\n",
      "brain_builtin_inference html                pydoc               wrapt\n",
      "brain_collections   http                pydoc_data          wsgiref\n",
      "brain_crypt         hyperlink           pyexpat             wxpy\n",
      "brain_curses        idlelib             pygments            xdrlib\n",
      "brain_dataclasses   idna                pyinform            xml\n",
      "brain_dateutil      igraph              pyitlib             xmlrpc\n",
      "brain_fstrings      imaplib             pylab               xxlimited\n",
      "brain_functools     imghdr              pylint              xxsubtype\n",
      "brain_gi            imp                 pyparsing           yaml\n",
      "brain_hashlib       importlib           pyqrcode            you_get\n",
      "brain_http          importlib_metadata  pyrsistent          zict\n",
      "brain_io            importmagic         pytest              zipapp\n",
      "brain_mechanize     incremental         python_utils        zipfile\n",
      "brain_multiprocessing inspect             pytouch             zipimport\n",
      "brain_namedtuple_enum io                  pytz                zipp\n",
      "brain_nose          ipaddress           qtconsole           zlib\n",
      "brain_numpy_core_fromnumeric ipykernel           qtpy                zmq\n",
      "brain_numpy_core_function_base ipykernel_launcher  queue               \n",
      "\n",
      "Enter any module name to get more help.  Or, type \"modules spam\" to search\n",
      "for modules whose name or summary contain the string \"spam\".\n",
      "\n"
     ]
    }
   ],
   "source": [
    "help(\"modules\")"
   ]
  },
  {
   "cell_type": "code",
   "execution_count": 4,
   "metadata": {},
   "outputs": [
    {
     "name": "stdout",
     "output_type": "stream",
     "text": [
      "[0, 1, 2, 3, 4]\n"
     ]
    },
    {
     "data": {
      "text/plain": [
       "NodeView((0, 1, 2, 3, 4, 5, 6, 7, 8, 9, 10, 11, 12, 13, 14, 15, 16, 17, 18, 19, 20, 21, 22, 23, 24, 25, 26, 27, 28, 29, 30, 31, 32, 33, 34, 35, 36, 37, 38, 39, 40, 41, 42, 43, 44, 45, 46, 47, 48, 49, 50, 51, 52, 53, 54, 55, 56, 57, 58, 59, 60, 61, 62, 63, 64, 65, 66, 67, 68, 69, 70, 71, 72, 73, 74, 75, 76, 77, 78, 79, 80, 81, 82, 83, 84, 85, 86, 87, 88, 89, 90, 91, 92, 93, 94, 95, 96, 97, 98, 99, 100, 101, 102, 103, 104, 105, 106, 107, 108, 109, 110, 111, 112, 113, 114, 115, 116, 117, 118, 119, 120, 121, 122, 123, 124, 125, 126, 127, 128, 129, 130, 131, 132, 133, 134, 135, 136, 137, 138, 139, 140, 141, 142, 143, 144, 145, 146, 147, 148, 149, 150, 151, 152, 153, 154, 155, 156, 157, 158, 159, 160, 161, 162, 163, 164, 165, 166, 167, 168, 169, 170, 171, 172, 173, 174, 175, 176, 177, 178, 179, 180, 181, 182, 183, 184, 185, 186, 187, 188, 189, 190, 191, 192, 193, 194, 195, 196, 197, 198, 199, 200, 201, 202, 203, 204, 205, 206, 207, 208, 209, 210, 211, 212, 213, 214, 215, 216, 217, 218, 219, 220, 221, 222, 223, 224, 225, 226, 227, 228, 229, 230, 231, 232, 233, 234, 235, 236, 237, 238, 239, 240, 241, 242, 243, 244, 245, 246, 247, 248, 249, 250, 251, 252, 253, 254, 255, 256, 257, 258, 259, 260, 261, 262, 263, 264, 265, 266, 267, 268, 269, 270, 271, 272, 273, 274, 275, 276, 277, 278, 279, 280, 281, 282, 283, 284, 285, 286, 287, 288, 289, 290, 291, 292, 293, 294, 295, 296, 297, 298, 299, 300, 301, 302, 303, 304, 305, 306, 307, 308, 309, 310, 311, 312, 313, 314, 315, 316, 317, 318, 319, 320, 321, 322, 323, 324, 325, 326, 327, 328, 329, 330, 331, 332, 333, 334, 335, 336, 337, 338, 339, 340, 341, 342, 343, 344, 345, 346, 347, 348, 349, 350, 351, 352, 353, 354, 355, 356, 357, 358, 359, 360, 361, 362, 363, 364, 365, 366, 367, 368, 369, 370, 371, 372, 373, 374, 375, 376, 377, 378, 379, 380, 381, 382, 383, 384, 385, 386, 387, 388, 389, 390, 391, 392, 393, 394, 395, 396, 397, 398, 399, 400, 401, 402, 403, 404, 405, 406, 407, 408, 409, 410, 411, 412, 413, 414, 415, 416, 417, 418, 419, 420, 421, 422, 423, 424, 425, 426, 427, 428, 429, 430, 431, 432, 433, 434, 435, 436, 437, 438, 439, 440, 441, 442, 443, 444, 445, 446, 447, 448, 449, 450, 451, 452, 453, 454, 455, 456, 457, 458, 459, 460, 461, 462, 463, 464, 465, 466, 467, 468, 469, 470, 471, 472, 473, 474, 475, 476, 477, 478, 479, 480, 481, 482, 483, 484, 485, 486, 487, 488, 489, 490, 491, 492, 493, 494, 495, 496, 497, 498, 499, 500, 501, 502, 503, 504, 505, 506, 507, 508, 509, 510, 511, 512, 513, 514, 515, 516, 517, 518, 519, 520, 521, 522, 523, 524, 525, 526, 527, 528, 529, 530, 531, 532, 533, 534, 535, 536, 537, 538, 539, 540, 541, 542, 543, 544, 545, 546, 547, 548, 549, 550, 551, 552, 553, 554, 555, 556, 557, 558, 559, 560, 561, 562, 563, 564, 565, 566, 567, 568, 569, 570, 571, 572, 573, 574, 575, 576, 577, 578, 579, 580, 581, 582, 583, 584, 585, 586, 587, 588, 589, 590, 591, 592, 593, 594, 595, 596, 597, 598, 599, 600, 601, 602, 603, 604, 605, 606, 607, 608, 609, 610, 611, 612, 613, 614, 615, 616, 617, 618, 619, 620, 621, 622, 623, 624, 625, 626, 627, 628, 629, 630, 631, 632, 633, 634, 635, 636, 637, 638, 639, 640, 641, 642, 643, 644, 645, 646, 647, 648, 649, 650, 651, 652, 653, 654, 655, 656, 657, 658, 659, 660, 661, 662, 663, 664, 665, 666, 667, 668, 669, 670, 671, 672, 673, 674, 675, 676, 677, 678, 679, 680, 681, 682, 683, 684, 685, 686, 687, 688, 689, 690, 691, 692, 693, 694, 695, 696, 697, 698, 699, 700, 701, 702, 703, 704, 705, 706, 707, 708, 709, 710, 711, 712, 713, 714, 715, 716, 717, 718, 719, 720, 721, 722, 723, 724, 725, 726, 727, 728, 729, 730, 731, 732, 733, 734, 735, 736, 737, 738, 739, 740, 741, 742, 743, 744, 745, 746, 747, 748, 749, 750, 751, 752, 753, 754, 755, 756, 757, 758, 759, 760, 761, 762, 763, 764, 765, 766, 767, 768, 769, 770, 771, 772, 773, 774, 775, 776, 777, 778, 779, 780, 781, 782, 783, 784, 785, 786, 787, 788, 789, 790, 791, 792, 793, 794, 795, 796, 797, 798, 799, 800, 801, 802, 803, 804, 805, 806, 807, 808, 809, 810, 811, 812, 813, 814, 815, 816, 817, 818, 819, 820, 821, 822, 823, 824, 825, 826, 827, 828, 829, 830, 831, 832, 833, 834, 835, 836, 837, 838, 839, 840, 841, 842, 843, 844, 845, 846, 847, 848, 849, 850, 851, 852, 853, 854, 855, 856, 857, 858, 859, 860, 861, 862, 863, 864, 865, 866, 867, 868, 869, 870, 871, 872, 873, 874, 875, 876, 877, 878, 879, 880, 881, 882, 883, 884, 885, 886, 887, 888, 889, 890, 891, 892, 893, 894, 895, 896, 897, 898, 899, 900, 901, 902, 903, 904, 905, 906, 907, 908, 909, 910, 911, 912, 913, 914, 915, 916, 917, 918, 919, 920, 921, 922, 923, 924, 925, 926, 927, 928, 929, 930, 931, 932, 933, 934, 935, 936, 937, 938, 939, 940, 941, 942, 943, 944, 945, 946, 947, 948, 949, 950, 951, 952, 953, 954, 955, 956, 957, 958, 959, 960, 961, 962, 963, 964, 965, 966, 967, 968, 969, 970, 971, 972, 973, 974, 975, 976, 977, 978, 979, 980, 981, 982, 983, 984, 985, 986, 987, 988, 989, 990, 991, 992, 993, 994, 995, 996, 997, 998, 999))"
      ]
     },
     "execution_count": 4,
     "metadata": {},
     "output_type": "execute_result"
    }
   ],
   "source": [
    "import evolving_mechanism as em\n",
    "\n",
    "el = em.EdgeList()\n",
    "g = el.read_BA(1.0)\n",
    "g.nodes"
   ]
  },
  {
   "cell_type": "code",
   "execution_count": 8,
   "metadata": {},
   "outputs": [
    {
     "data": {
      "text/plain": [
       "True"
      ]
     },
     "execution_count": 8,
     "metadata": {},
     "output_type": "execute_result"
    }
   ],
   "source": [
    "999 in g.nodes"
   ]
  },
  {
   "cell_type": "code",
   "execution_count": 9,
   "metadata": {},
   "outputs": [
    {
     "name": "stdout",
     "output_type": "stream",
     "text": [
      "<class 'networkx.classes.reportviews.NodeView'>\n"
     ]
    }
   ],
   "source": [
    "print(type(g.nodes))"
   ]
  },
  {
   "cell_type": "code",
   "execution_count": 19,
   "metadata": {},
   "outputs": [
    {
     "data": {
      "text/plain": [
       "(networkx.classes.reportviews.NodeView,\n",
       " collections.abc.Mapping,\n",
       " collections.abc.Set,\n",
       " collections.abc.Collection,\n",
       " collections.abc.Sized,\n",
       " collections.abc.Iterable,\n",
       " collections.abc.Container,\n",
       " object)"
      ]
     },
     "execution_count": 19,
     "metadata": {},
     "output_type": "execute_result"
    }
   ],
   "source": [
    "import inspect\n",
    "from networkx.classes.reportviews import NodeView\n",
    "inspect.getmro(NodeView)"
   ]
  },
  {
   "cell_type": "code",
   "execution_count": 29,
   "metadata": {},
   "outputs": [
    {
     "name": "stdout",
     "output_type": "stream",
     "text": [
      "[0, 1, 2, 3, 4]\n",
      "EdgeList of none has 4980 edges\n"
     ]
    }
   ],
   "source": [
    "import evolving_mechanism\n",
    "\n",
    "el = em.EdgeList()\n",
    "g = el.read_BA(1.0)\n",
    "el.evolve()"
   ]
  },
  {
   "cell_type": "code",
   "execution_count": 31,
   "metadata": {},
   "outputs": [
    {
     "data": {
      "text/plain": [
       "array([0.5       , 0.66666667, 0.75      ])"
      ]
     },
     "execution_count": 31,
     "metadata": {},
     "output_type": "execute_result"
    }
   ],
   "source": [
    "import numpy as np\n",
    "a = np.array([1,2,3])\n",
    "b = np.array([2,3,4])\n",
    "a/b"
   ]
  },
  {
   "cell_type": "code",
   "execution_count": 32,
   "metadata": {},
   "outputs": [
    {
     "name": "stdout",
     "output_type": "stream",
     "text": [
      "0.22131295568711548 0.024394866072557087\n"
     ]
    },
    {
     "data": {
      "text/plain": [
       "0.0769314659916196"
      ]
     },
     "execution_count": 32,
     "metadata": {},
     "output_type": "execute_result"
    }
   ],
   "source": [
    "import numpy as np\n",
    "def s_cal(m):\n",
    "    s = 0\n",
    "    for k in range(m,100000):\n",
    "        s += 1.0/(k*k)\n",
    "    return s\n",
    "def s1_cal(m):\n",
    "    s = 0\n",
    "    for k in range(m,100000):\n",
    "        s += 1.0/(k*k*k)\n",
    "    return s\n",
    "\n",
    "def ed(m):\n",
    "    s = s_cal(m)\n",
    "    s1 = s1_cal(m)\n",
    "    print(s, s1)\n",
    "    \n",
    "    ed = 0\n",
    "    for k in range(m,100000):\n",
    "        q =(1.0/(s1*k*k*k)+1.0/(s*k*k))/2\n",
    "        \n",
    "        ed += -q*np.log2(q)\n",
    "    return ed\n",
    "    \n",
    "\n",
    "def edx(m):\n",
    "    e1 = 0\n",
    "    e2 = 0\n",
    "    s = s_cal(m)\n",
    "    s1 = s1_cal(m)\n",
    "    for k in range(m,100000):\n",
    "        q1 = 1.0/(s*k*k)\n",
    "        e1 += -q1*np.log2(q1)\n",
    "        q2 = 1.0/(s1*k*k*k)\n",
    "        e2 += -q2*np.log2(q2)\n",
    "    return (e1+e2)/2\n",
    "\n",
    "ed(5) - edx(5)"
   ]
  },
  {
   "cell_type": "code",
   "execution_count": 33,
   "metadata": {},
   "outputs": [
    {
     "name": "stdout",
     "output_type": "stream",
     "text": [
      "0.09278880634609976\n"
     ]
    }
   ],
   "source": [
    "e = 0\n",
    "m = 5\n",
    "s = s_cal(m)\n",
    "s1 = s1_cal(m)\n",
    "e = s/(2*m*s1)\n",
    "print(1.0 -e)"
   ]
  },
  {
   "cell_type": "code",
   "execution_count": 34,
   "metadata": {},
   "outputs": [
    {
     "name": "stdout",
     "output_type": "stream",
     "text": [
      "3.359731603342482\n"
     ]
    }
   ],
   "source": [
    "e = 0\n",
    "for k in range(m,100000):\n",
    "    q = 1.0/(s1*k*k*k)\n",
    "    e += -q*np.log2(q)\n",
    "print(e)"
   ]
  },
  {
   "cell_type": "code",
   "execution_count": null,
   "metadata": {},
   "outputs": [],
   "source": []
  }
 ],
 "metadata": {
  "kernelspec": {
   "display_name": "Python 3",
   "language": "python",
   "name": "python3"
  },
  "language_info": {
   "codemirror_mode": {
    "name": "ipython",
    "version": 3
   },
   "file_extension": ".py",
   "mimetype": "text/x-python",
   "name": "python",
   "nbconvert_exporter": "python",
   "pygments_lexer": "ipython3",
   "version": "3.7.3"
  }
 },
 "nbformat": 4,
 "nbformat_minor": 4
}
